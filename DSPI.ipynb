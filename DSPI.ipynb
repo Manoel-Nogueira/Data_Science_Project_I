{
  "nbformat": 4,
  "nbformat_minor": 0,
  "metadata": {
    "colab": {
      "provenance": [],
      "mount_file_id": "1ri3btmaVMZWF4Glxxir9DQQyRbfIr4yU",
      "authorship_tag": "ABX9TyMqZHe9zE5iGvIdZO6+J5Wa",
      "include_colab_link": true
    },
    "kernelspec": {
      "name": "python3",
      "display_name": "Python 3"
    },
    "language_info": {
      "name": "python"
    }
  },
  "cells": [
    {
      "cell_type": "markdown",
      "metadata": {
        "id": "view-in-github",
        "colab_type": "text"
      },
      "source": [
        "<a href=\"https://colab.research.google.com/github/Manoel-Nogueira/Data_Science_Project_I/blob/main/DSPI.ipynb\" target=\"_parent\"><img src=\"https://colab.research.google.com/assets/colab-badge.svg\" alt=\"Open In Colab\"/></a>"
      ]
    },
    {
      "cell_type": "code",
      "source": [
        "!pip install -r requirements.txt"
      ],
      "metadata": {
        "id": "ISKpN5GKg4wK"
      },
      "execution_count": null,
      "outputs": []
    },
    {
      "cell_type": "code",
      "source": [
        "!unzip /content/drive/MyDrive/dataset.zip"
      ],
      "metadata": {
        "collapsed": true,
        "id": "jVpt5XKEjUkX"
      },
      "execution_count": null,
      "outputs": []
    },
    {
      "cell_type": "code",
      "source": [
        "import kagglehub\n",
        "import os\n",
        "import numpy as np\n",
        "import sys\n",
        "import matplotlib.pyplot as plt\n",
        "from skimage import io\n",
        "from skimage import color\n",
        "from skimage import transform\n",
        "from PIL import Image\n",
        "from sklearn.neural_network import MLPClassifier\n",
        "from sklearn.metrics import accuracy_score\n",
        "from sklearn.metrics import recall_score\n",
        "from sklearn.metrics import precision_score"
      ],
      "metadata": {
        "id": "WsmMaHCBkDCR"
      },
      "execution_count": 12,
      "outputs": []
    },
    {
      "cell_type": "code",
      "source": [
        "WIDTH = 64\n",
        "HEIGHT = 64"
      ],
      "metadata": {
        "id": "2SWUuB0Ugqo-"
      },
      "execution_count": 3,
      "outputs": []
    },
    {
      "cell_type": "code",
      "execution_count": 4,
      "metadata": {
        "id": "dIFCJQRl3lJU"
      },
      "outputs": [],
      "source": [
        "def preProcessing(path, nameHetyFolder):\n",
        "\n",
        "  x = []\n",
        "  y = np.array([])\n",
        "\n",
        "  # Percorrendo a árvore do diretório de cima para baixo\n",
        "  for dirpath, dirnames, filenames in os.walk(path) :\n",
        "\n",
        "      print(f'Dir -->> {dirpath}')\n",
        "\n",
        "      for filename in filenames :\n",
        "\n",
        "          # Pegando cada imagem, colocando-a em grayscale e redimensionando para 64x64\n",
        "          img = Image.open((dirpath + \"/\" + filename)).convert(\"L\").resize((WIDTH, HEIGHT))\n",
        "\n",
        "          # Pegando a imagem e vetorizando-a\n",
        "          vector = np.array(img).flatten().astype(\"float32\")\n",
        "\n",
        "          # Normalizando o vetor gerado pela imagem\n",
        "          normalized = vector / 255.0\n",
        "\n",
        "          # Criando o array de amostras e seus rótulos / classes\n",
        "          x.append(normalized)\n",
        "          y = np.append(y, 1 if dirpath == (path + \"/\" + nameHetyFolder) else 0)\n",
        "\n",
        "  x = np.array(x)\n",
        "\n",
        "  return x, y"
      ]
    },
    {
      "cell_type": "code",
      "source": [
        "\n",
        "pathTrain = \"dataset/train\"\n",
        "pathTest = \"dataset/test\"\n",
        "\n",
        "xTrain, yTrain = preProcessing(pathTrain, \"healthy\")\n",
        "xTest, yTest = preProcessing(pathTest, \"healthy\")"
      ],
      "metadata": {
        "id": "oWqqTjzLkHOW",
        "collapsed": true,
        "colab": {
          "base_uri": "https://localhost:8080/"
        },
        "outputId": "654e4718-c880-4ba9-b3c2-935c45733233"
      },
      "execution_count": 5,
      "outputs": [
        {
          "output_type": "stream",
          "name": "stdout",
          "text": [
            "Dir -->> dataset/train\n",
            "Dir -->> dataset/train/lemon_butterfly\n",
            "Dir -->> dataset/train/leaf_miner\n",
            "Dir -->> dataset/train/healthy\n",
            "Dir -->> dataset/train/greening\n",
            "Dir -->> dataset/train/canker\n",
            "Dir -->> dataset/test\n",
            "Dir -->> dataset/test/lemon_butterfly\n",
            "Dir -->> dataset/test/leaf_miner\n",
            "Dir -->> dataset/test/healthy\n",
            "Dir -->> dataset/test/greening\n",
            "Dir -->> dataset/test/canker\n"
          ]
        }
      ]
    },
    {
      "cell_type": "markdown",
      "source": [
        "# **MLP**"
      ],
      "metadata": {
        "id": "HPqvlsjcAu32"
      }
    },
    {
      "cell_type": "code",
      "source": [
        "mlp = MLPClassifier(hidden_layer_sizes = (128, 64, 32, 16), activation = \"logistic\", solver = \"sgd\", learning_rate = \"constant\", learning_rate_init = 0.08, max_iter = 250, shuffle = True, random_state = 8, verbose = True, n_iter_no_change = 10)\n",
        "mlp.fit(xTrain, yTrain)"
      ],
      "metadata": {
        "collapsed": true,
        "id": "otYLDr_i9GxP"
      },
      "execution_count": null,
      "outputs": []
    },
    {
      "cell_type": "code",
      "source": [
        "# Fazendo a predição\n",
        "# Ele está colocando 2 neurônios na saída, representando 0 e 1\n",
        "yPred = mlp.predict_proba(xTest)\n",
        "\n",
        "# Pegando a classe / neurônio que teve o maior valor de cada predição\n",
        "yAux = np.argmax(yPred, 1)\n",
        "\n",
        "# Calculando a accuracy\n",
        "acs = accuracy_score(yTest, yAux)\n",
        "\n",
        "# Calculando o precision\n",
        "pcs = precision_score(yTest, yAux)\n",
        "\n",
        "# Calculando o recall\n",
        "rcs = recall_score(yTest, yAux)\n",
        "\n",
        "print(\"Accuracy -->> \", acs)\n",
        "print(\"Precision -->> \", pcs)\n",
        "print(\"Recall -->> \", rcs)"
      ],
      "metadata": {
        "colab": {
          "base_uri": "https://localhost:8080/"
        },
        "id": "CkcFyQN7flmq",
        "outputId": "35537764-4043-4e97-a1c9-3ce3bb6901f3"
      },
      "execution_count": 10,
      "outputs": [
        {
          "output_type": "stream",
          "name": "stdout",
          "text": [
            "Accuracy -->>  0.8073000536768653\n",
            "Precision -->>  0.6048484848484849\n",
            "Recall -->>  0.9379699248120301\n"
          ]
        }
      ]
    }
  ]
}